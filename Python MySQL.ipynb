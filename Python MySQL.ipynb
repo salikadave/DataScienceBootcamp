{
 "cells": [
  {
   "cell_type": "code",
   "execution_count": 6,
   "metadata": {},
   "outputs": [],
   "source": [
    "import pymysql\n",
    "\n",
    "#database connection\n",
    "connection = pymysql.connect(host='localhost', user='root', passwd='', database='datascience')\n",
    "cursor = connection.cursor()   #used to fetch data\n",
    "connection.close()"
   ]
  },
  {
   "cell_type": "code",
   "execution_count": 8,
   "metadata": {},
   "outputs": [],
   "source": [
    "connection = pymysql.connect(host='localhost', user='root', passwd='', database='datascience')\n",
    "cursor = connection.cursor()\n",
    "\n",
    "#Query for creating a table\n",
    "StudentsTableSql = \"\"\"CREATE TABLE Students(ID INT(20) PRIMARY KEY AUTO_INCREMENT, NAME CHAR(20) NOT NULL, FIELD CHAR(10))\"\"\"\n",
    "cursor.execute(StudentsTableSql)\n",
    "\n",
    "connection.close()"
   ]
  },
  {
   "cell_type": "code",
   "execution_count": 14,
   "metadata": {},
   "outputs": [],
   "source": [
    "connection = pymysql.connect(host='localhost', user='root', passwd='', database='datascience')\n",
    "cursor = connection.cursor()\n",
    "\n",
    "#queries for inserting values\n",
    "insert1 = \"INSERT INTO Students(NAME, FIELD) VALUES('Jaideep More', 'EXTC')\"\n",
    "insert2 = \"INSERT INTO Students(NAME, FIELD) VALUES('Mufaddal Miyajiwala', 'EXTC')\"\n",
    "insert3 = \"INSERT INTO Students(NAME, FIELD) VALUES('Salika Dave', 'COMPS')\"\n",
    "insert4 = \"INSERT INTO Students(NAME, FIELD) VALUES('Saloni Patadia', 'IT')\"\n",
    "insert5 = \"INSERT INTO Students(NAME, FIELD) VALUES('Shivam Panchal', 'COMPS')\"\n",
    "insert6 = \"INSERT INTO Students(NAME, FIELD) VALUES('Idrees Dargahwala', 'COMPS')\"\n",
    "insert7 = \"INSERT INTO Students(NAME, FIELD) VALUES('Hiren Patel', 'EXTC')\"\n",
    "\n",
    "cursor.execute(insert1)\n",
    "cursor.execute(insert2)\n",
    "cursor.execute(insert3)\n",
    "cursor.execute(insert4)\n",
    "cursor.execute(insert5)\n",
    "cursor.execute(insert6)\n",
    "cursor.execute(insert7)\n",
    "\n",
    "#commiting the connection and then closing it\n",
    "connection.commit()"
   ]
  },
  {
   "cell_type": "code",
   "execution_count": 11,
   "metadata": {},
   "outputs": [
    {
     "name": "stdout",
     "output_type": "stream",
     "text": [
      "(1, 'Jaideep More', 'EXTC')\n",
      "(2, 'Mufaddal Miyajiwala', 'EXTC')\n",
      "(3, 'Salika Dave', 'COMPS')\n",
      "(4, 'Saloni Patadia', 'IT')\n",
      "(5, 'Shivam Panchal', 'COMPS')\n",
      "(6, 'Idrees Dargahwala', 'COMPS')\n",
      "(7, 'Hiren Patel', 'EXTC')\n"
     ]
    }
   ],
   "source": [
    "#queries for retrieving all the rows\n",
    "retrieve = \"SELECT * FROM Students;\"\n",
    "\n",
    "#executing the queries\n",
    "cursor.execute(retrieve)\n",
    "rows = cursor.fetchall()\n",
    "for row in rows:\n",
    "    print(row)\n",
    "    \n",
    "connection.close()"
   ]
  },
  {
   "cell_type": "code",
   "execution_count": 16,
   "metadata": {},
   "outputs": [],
   "source": [
    "updateSql = \"UPDATE Students SET FIELD= 'BS&H' WHERE ID= '1' ;\"\n",
    "cursor.execute(updateSql)\n",
    "connection.commit()"
   ]
  },
  {
   "cell_type": "code",
   "execution_count": 17,
   "metadata": {},
   "outputs": [],
   "source": [
    "deleteSql = \"DELETE FROM Students WHERE ID = '1' ;\"\n",
    "cursor.execute(deleteSql)\n",
    "connection.commit()"
   ]
  },
  {
   "cell_type": "code",
   "execution_count": null,
   "metadata": {},
   "outputs": [],
   "source": [
    "insert8 = \"INSERT INTO Students(ID, NAME, FIELD) VALUES('1','Nayan Bhatia', 'COMPS');\"\n",
    "cursor.execute(insert1)"
   ]
  },
  {
   "cell_type": "code",
   "execution_count": 18,
   "metadata": {},
   "outputs": [],
   "source": [
    "dropSql = \"DROP TABLE IF EXISTS Students\"\n",
    "cursor.execute(dropSql)\n",
    "connection.commit()\n",
    "connection.close()"
   ]
  },
  {
   "cell_type": "code",
   "execution_count": null,
   "metadata": {},
   "outputs": [],
   "source": []
  }
 ],
 "metadata": {
  "kernelspec": {
   "display_name": "Python 3",
   "language": "python",
   "name": "python3"
  },
  "language_info": {
   "codemirror_mode": {
    "name": "ipython",
    "version": 3
   },
   "file_extension": ".py",
   "mimetype": "text/x-python",
   "name": "python",
   "nbconvert_exporter": "python",
   "pygments_lexer": "ipython3",
   "version": "3.6.5"
  }
 },
 "nbformat": 4,
 "nbformat_minor": 2
}
