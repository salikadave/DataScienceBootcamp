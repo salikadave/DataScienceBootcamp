{
 "cells": [
  {
   "cell_type": "code",
   "execution_count": 6,
   "metadata": {},
   "outputs": [
    {
     "name": "stdout",
     "output_type": "stream",
     "text": [
      "<class 'int'>\n"
     ]
    },
    {
     "ename": "NameError",
     "evalue": "name 'March5' is not defined",
     "output_type": "error",
     "traceback": [
      "\u001b[1;31m---------------------------------------------------------------------------\u001b[0m",
      "\u001b[1;31mNameError\u001b[0m                                 Traceback (most recent call last)",
      "\u001b[1;32m<ipython-input-6-7f5b440a93b6>\u001b[0m in \u001b[0;36m<module>\u001b[1;34m\u001b[0m\n\u001b[0;32m      1\u001b[0m \u001b[0mprint\u001b[0m\u001b[1;33m(\u001b[0m\u001b[0mtype\u001b[0m\u001b[1;33m(\u001b[0m\u001b[1;36m32\u001b[0m\u001b[1;33m)\u001b[0m\u001b[1;33m)\u001b[0m\u001b[1;33m\u001b[0m\u001b[0m\n\u001b[1;32m----> 2\u001b[1;33m \u001b[0mprint\u001b[0m\u001b[1;33m(\u001b[0m\u001b[0mtype\u001b[0m\u001b[1;33m(\u001b[0m\u001b[0mMarch5\u001b[0m\u001b[1;33m)\u001b[0m\u001b[1;33m)\u001b[0m\u001b[1;33m\u001b[0m\u001b[0m\n\u001b[0m",
      "\u001b[1;31mNameError\u001b[0m: name 'March5' is not defined"
     ]
    }
   ],
   "source": [
    "print(type(32))\n",
    "print(type(March5))"
   ]
  },
  {
   "cell_type": "code",
   "execution_count": 6,
   "metadata": {},
   "outputs": [
    {
     "name": "stdout",
     "output_type": "stream",
     "text": [
      "2salika6.0\n"
     ]
    }
   ],
   "source": [
    "var1 = 2\n",
    "var2 = \"salika\"\n",
    "var3 = 6.0\n",
    "print(str(var1) + var2 + str(var3))"
   ]
  },
  {
   "cell_type": "markdown",
   "metadata": {},
   "source": [
    "# User Inputs"
   ]
  },
  {
   "cell_type": "code",
   "execution_count": 2,
   "metadata": {},
   "outputs": [
    {
     "name": "stdout",
     "output_type": "stream",
     "text": [
      "Please enter your nameSalika\n",
      "<class 'str'>\n"
     ]
    }
   ],
   "source": [
    "var1 = input(\"Please enter your name\")\n",
    "print(type(var1))"
   ]
  },
  {
   "cell_type": "markdown",
   "metadata": {},
   "source": [
    "# Lists"
   ]
  },
  {
   "cell_type": "code",
   "execution_count": 4,
   "metadata": {},
   "outputs": [
    {
     "name": "stdout",
     "output_type": "stream",
     "text": [
      "[26, 99.0, 'July', True]\n",
      "<class 'list'>\n"
     ]
    }
   ],
   "source": [
    "list1 = [26, 99.0, \"July\", True]\n",
    "print(list1)\n",
    "print(type(list1))"
   ]
  },
  {
   "cell_type": "code",
   "execution_count": 5,
   "metadata": {},
   "outputs": [
    {
     "name": "stdout",
     "output_type": "stream",
     "text": [
      "Enter the no. of items: 3\n",
      "Enter item name: bread\n",
      "Enter item name: butter\n",
      "Enter item name: jam\n",
      "['bread', 'butter', 'jam']\n"
     ]
    }
   ],
   "source": [
    "num = int(input(\"Enter the no. of items: \"))\n",
    "listItems = []\n",
    "'''\n",
    "for i in range(0,num):\n",
    "    itemName = input(\"Enter item name: \")\n",
    "    listItems.append(itemName)\n",
    "print(listItems)\n",
    "\n",
    "'''\n",
    "\n",
    "#another approach\n",
    "while len(listItems) < num:\n",
    "    itemName = input(\"Enter item name: \")\n",
    "    listItems.append(itemName)\n",
    "print(listItems)"
   ]
  },
  {
   "cell_type": "markdown",
   "metadata": {},
   "source": [
    "<h1>Dictionaries</h1>\n",
    "<p>These cells show examples of dictionaries</p>"
   ]
  },
  {
   "cell_type": "code",
   "execution_count": 19,
   "metadata": {},
   "outputs": [
    {
     "name": "stdout",
     "output_type": "stream",
     "text": [
      "{'mom': '5th March', 'me': 'Twenty Sixth July', 'dad': 'Twentieth August'}\n",
      "dict_keys(['mom', 'me', 'dad'])\n",
      "dict_values(['5th March', 'Twenty Sixth July', 'Twentieth August'])\n",
      "3\n"
     ]
    }
   ],
   "source": [
    "dict1 = {\"mom\":\"5th March\", \"me\":\"Twenty Sixth July\", \"dad\":\"Twentieth August\" }\n",
    "print(dict1)\n",
    "print(dict1.keys())\n",
    "print(dict1.values())\n",
    "print(len(birthdays))"
   ]
  },
  {
   "cell_type": "code",
   "execution_count": 18,
   "metadata": {},
   "outputs": [
    {
     "name": "stdout",
     "output_type": "stream",
     "text": [
      "Enter no. of people: 3\n",
      "Enter Name: Mom\n",
      "Enter Month: 5th March\n",
      "Enter Name: Salika\n",
      "Enter Month: 26th July\n",
      "Enter Name: Dad\n",
      "Enter Month: 20th August\n",
      "{'Mom': '5th March', 'Salika': '26th July', 'Dad': '20th August'}\n"
     ]
    }
   ],
   "source": [
    "birthdays = {}\n",
    "num = int(input(\"Enter no. of people: \"))\n",
    "\n",
    "for i in range(0,num):\n",
    "    key = input(\"Enter Name: \")\n",
    "    value = input(\"Enter Month: \")\n",
    "    birthdays[key] = value\n",
    "\n",
    "print(birthdays)"
   ]
  },
  {
   "cell_type": "code",
   "execution_count": null,
   "metadata": {},
   "outputs": [],
   "source": []
  }
 ],
 "metadata": {
  "kernelspec": {
   "display_name": "Python 3",
   "language": "python",
   "name": "python3"
  },
  "language_info": {
   "codemirror_mode": {
    "name": "ipython",
    "version": 3
   },
   "file_extension": ".py",
   "mimetype": "text/x-python",
   "name": "python",
   "nbconvert_exporter": "python",
   "pygments_lexer": "ipython3",
   "version": "3.6.5"
  }
 },
 "nbformat": 4,
 "nbformat_minor": 2
}
